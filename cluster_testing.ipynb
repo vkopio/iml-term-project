{
 "metadata": {
  "language_info": {
   "codemirror_mode": {
    "name": "ipython",
    "version": 3
   },
   "file_extension": ".py",
   "mimetype": "text/x-python",
   "name": "python",
   "nbconvert_exporter": "python",
   "pygments_lexer": "ipython3",
   "version": "3.7.4-final"
  },
  "orig_nbformat": 2,
  "kernelspec": {
   "name": "python37464bitcondad36d02735c7842b49397084c546dac98",
   "display_name": "Python 3.7.4 64-bit (conda)"
  }
 },
 "nbformat": 4,
 "nbformat_minor": 2,
 "cells": [
  {
   "cell_type": "code",
   "execution_count": 73,
   "metadata": {},
   "outputs": [],
   "source": [
    "import numpy as np\n",
    "import pandas as pd\n",
    "import matplotlib.pyplot as plt\n",
    "\n",
    "import sklearn\n",
    "from sklearn.cluster import KMeans\n",
    "from sklearn.decomposition import PCA\n",
    "\n",
    "from sklearn.model_selection import train_test_split\n",
    "import sklearn.feature_selection\n",
    "\n",
    "from sklearn.preprocessing import scale\n",
    "\n",
    "import sklearn.metrics as sm\n",
    "from sklearn import datasets\n",
    "from sklearn.metrics import confusion_matrix, classification_report\n",
    "\n",
    "npf_train = pd.read_csv(\"data/npf_train.csv\")\n",
    "npf_test = pd.read_csv(\"data/npf_test_hidden.csv\")"
   ]
  },
  {
   "cell_type": "code",
   "execution_count": 4,
   "metadata": {},
   "outputs": [],
   "source": [
    "def preprosessing(npf):\n",
    "    '''Preprosessing function for npf_*.csv files'''\n",
    "\n",
    "    # Making the binary classifier class2 where event = 1, nonevent = 0\n",
    "    npf['class2'] = [0 if x == 'nonevent' else 1 for x in npf['class4']]\n",
    "\n",
    "    # Making dummy variables from class4 variables 'nonevent','Ia','Ib' and 'II' \n",
    "    dummies = pd.get_dummies(npf['class4'])\n",
    "    npf = npf.drop('class4',axis=1)\n",
    "    npf = npf.join(dummies)\n",
    "\n",
    "    # Dropping features 'partlybad','id' and 'date' because we won't need them. Feature 'partlybad' was only False \n",
    "    npf = npf.drop(['date','id','partlybad'],axis=1)\n",
    "\n",
    "    return npf"
   ]
  },
  {
   "cell_type": "code",
   "execution_count": null,
   "metadata": {},
   "outputs": [],
   "source": [
    "def best_feature_columns(X_train, y_train, n):\n",
    "    '''Return n best feature columns'''\n",
    "    select = sklearn.feature_selection.SelectKBest(k=20)\n",
    "    selected_features = select.fit(X_train, y_train)\n",
    "    indices_selected = selected_features.get_support(indices=True)\n",
    "    colnames_selected = [X_train.columns[i] for i in indices_selected]\n",
    "\n",
    "    return colnames_selected"
   ]
  },
  {
   "cell_type": "code",
   "execution_count": 40,
   "metadata": {},
   "outputs": [],
   "source": [
    "def best_feature_columns(X_train, y_train, n):\n",
    "    '''Return n best feature columns'''\n",
    "    select = sklearn.feature_selection.SelectKBest(k=20)\n",
    "    selected_features = select.fit(X_train, y_train)\n",
    "    indices_selected = selected_features.get_support(indices=True)\n",
    "    colnames_selected = [X_train.columns[i] for i in indices_selected]\n",
    "\n",
    "    return colnames_selected"
   ]
  },
  {
   "source": [
    "Loading the data and doing some preprosessing."
   ],
   "cell_type": "markdown",
   "metadata": {}
  },
  {
   "cell_type": "code",
   "execution_count": 122,
   "metadata": {},
   "outputs": [],
   "source": [
    "#npf = preprosessing(npf_train)\n",
    "X_all = npf_train.drop(['id','date','partlybad','class4'],1)\n",
    "#Dropping std's\n",
    "X = X_all.drop([c for c in X.columns if 'std' in c],axis=1)\n",
    "y = npf_train['class4']"
   ]
  },
  {
   "source": [
    "Scaling for zero mean and unit variance"
   ],
   "cell_type": "markdown",
   "metadata": {}
  },
  {
   "cell_type": "code",
   "execution_count": 123,
   "metadata": {},
   "outputs": [],
   "source": [
    "X[X.columns] = scale(X[X.columns])"
   ]
  },
  {
   "source": [
    "Selecting 20 best features"
   ],
   "cell_type": "markdown",
   "metadata": {}
  },
  {
   "cell_type": "code",
   "execution_count": 124,
   "metadata": {},
   "outputs": [
    {
     "output_type": "execute_result",
     "data": {
      "text/plain": [
       "['CO242.mean',\n",
       " 'Glob.mean',\n",
       " 'NET.mean',\n",
       " 'O3168.mean',\n",
       " 'O342.mean',\n",
       " 'O3504.mean',\n",
       " 'O3672.mean',\n",
       " 'O384.mean',\n",
       " 'PAR.mean',\n",
       " 'RGlob.mean',\n",
       " 'RHIRGA168.mean',\n",
       " 'RHIRGA336.mean',\n",
       " 'RHIRGA42.mean',\n",
       " 'RHIRGA504.mean',\n",
       " 'RHIRGA672.mean',\n",
       " 'RHIRGA84.mean',\n",
       " 'RPAR.mean',\n",
       " 'UV_A.mean',\n",
       " 'UV_B.mean',\n",
       " 'CS.mean']"
      ]
     },
     "metadata": {},
     "execution_count": 124
    }
   ],
   "source": [
    "features = best_feature_columns(X,y,20)\n",
    "features"
   ]
  },
  {
   "source": [
    "Now doing the clustering. We set 4 clusters as parameter because we know that we have 4 classes to distiguish"
   ],
   "cell_type": "markdown",
   "metadata": {}
  },
  {
   "cell_type": "code",
   "execution_count": 125,
   "metadata": {},
   "outputs": [],
   "source": [
    "kmeans_cluster = KMeans(n_clusters=4, n_init=20,random_state=42).fit(X[features],y)\n"
   ]
  },
  {
   "cell_type": "code",
   "execution_count": 126,
   "metadata": {},
   "outputs": [
    {
     "output_type": "execute_result",
     "data": {
      "text/plain": [
       "-2766.94116306839"
      ]
     },
     "metadata": {},
     "execution_count": 126
    }
   ],
   "source": [
    "kmeans_cluster.score(X[features],y)"
   ]
  },
  {
   "cell_type": "code",
   "execution_count": null,
   "metadata": {},
   "outputs": [],
   "source": []
  }
 ]
}